{
 "cells": [
  {
   "cell_type": "markdown",
   "id": "5253cef2",
   "metadata": {},
   "source": [
    "# Employee Attrition Prediction Using HR Data\n",
    "\n",
    "This notebook demonstrates how to generate synthetic HR data, perform exploratory data analysis (EDA), \n",
    "and train a machine learning model to predict employee attrition.\n"
   ]
  },
  {
   "cell_type": "code",
   "execution_count": null,
   "id": "f6ac5406",
   "metadata": {},
   "outputs": [],
   "source": [
    "import pandas as pd\n",
    "import numpy as np\n",
    "import matplotlib.pyplot as plt\n",
    "import seaborn as sns\n",
    "from sklearn.model_selection import train_test_split\n",
    "from sklearn.ensemble import RandomForestClassifier\n",
    "from sklearn.metrics import classification_report, confusion_matrix, accuracy_score\n",
    "\n",
    "df = pd.read_csv('/mnt/data/hr_attrition_synthetic.csv')\n",
    "df.head()"
   ]
  },
  {
   "cell_type": "markdown",
   "id": "71a0243d",
   "metadata": {},
   "source": [
    "## Dataset Overview"
   ]
  },
  {
   "cell_type": "code",
   "execution_count": null,
   "id": "b187d2cb",
   "metadata": {},
   "outputs": [],
   "source": [
    "df.describe()"
   ]
  },
  {
   "cell_type": "markdown",
   "id": "99622ae6",
   "metadata": {},
   "source": [
    "## Attrition Distribution"
   ]
  },
  {
   "cell_type": "code",
   "execution_count": null,
   "id": "86f3fb29",
   "metadata": {},
   "outputs": [],
   "source": [
    "sns.countplot(data=df, x='Attrition')\n",
    "plt.title('Attrition Count')\n",
    "plt.show()"
   ]
  },
  {
   "cell_type": "markdown",
   "id": "d063392c",
   "metadata": {},
   "source": [
    "## Department vs Attrition"
   ]
  },
  {
   "cell_type": "code",
   "execution_count": null,
   "id": "07d384a3",
   "metadata": {},
   "outputs": [],
   "source": [
    "sns.countplot(data=df, x='Department', hue='Attrition')\n",
    "plt.xticks(rotation=45)\n",
    "plt.title('Department vs Attrition')\n",
    "plt.show()"
   ]
  },
  {
   "cell_type": "markdown",
   "id": "4aaaf6a4",
   "metadata": {},
   "source": [
    "## Train a Model"
   ]
  },
  {
   "cell_type": "code",
   "execution_count": null,
   "id": "c33cd83f",
   "metadata": {},
   "outputs": [],
   "source": [
    "df_encoded = pd.get_dummies(df, drop_first=True)\n",
    "X = df_encoded.drop('Attrition', axis=1)\n",
    "y = df_encoded['Attrition']\n",
    "X_train, X_test, y_train, y_test = train_test_split(X, y, test_size=0.2, random_state=42)\n",
    "model = RandomForestClassifier(random_state=42)\n",
    "model.fit(X_train, y_train)\n",
    "y_pred = model.predict(X_test)\n",
    "print('Accuracy:', accuracy_score(y_test, y_pred))\n",
    "print(classification_report(y_test, y_pred))"
   ]
  },
  {
   "cell_type": "markdown",
   "id": "df260342",
   "metadata": {},
   "source": [
    "## Feature Importance"
   ]
  },
  {
   "cell_type": "code",
   "execution_count": null,
   "id": "d620e670",
   "metadata": {},
   "outputs": [],
   "source": [
    "feat_importances = pd.Series(model.feature_importances_, index=X.columns)\n",
    "feat_importances.nlargest(10).plot(kind='barh')\n",
    "plt.title('Top 10 Feature Importances')\n",
    "plt.show()"
   ]
  }
 ],
 "metadata": {},
 "nbformat": 4,
 "nbformat_minor": 5
}
